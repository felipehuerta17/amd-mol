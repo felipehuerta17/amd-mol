{
 "cells": [
  {
   "cell_type": "code",
   "execution_count": 1,
   "id": "7c0af247",
   "metadata": {},
   "outputs": [],
   "source": [
    "# Import modules\n",
    "import numpy as np"
   ]
  },
  {
   "cell_type": "markdown",
   "id": "ecbdfdb3",
   "metadata": {},
   "source": [
    "### Define parameters"
   ]
  },
  {
   "cell_type": "code",
   "execution_count": 15,
   "id": "45a1d2b4",
   "metadata": {},
   "outputs": [],
   "source": [
    "# Define parameters - Haverkamp et al.\n",
    "\n",
    "# Hydraulic conductivity\n",
    "K_s = 34 # Saturated hydraulic conductivity, cm/h\n",
    "A = 1.175E6 # -\n",
    "beta_K = 4.74 # - d\n",
    "\n",
    "# Water saturation - pressure head relation\n",
    "theta_s = 0.287 # Saturation: the value of theta for which h is zero\n",
    "theta_r = 0.075\n",
    "alpha = 1.611e6\n",
    "beta_theta = 3.96"
   ]
  },
  {
   "cell_type": "markdown",
   "id": "30eb1fe3",
   "metadata": {},
   "source": [
    "Create mesh\n"
   ]
  },
  {
   "cell_type": "markdown",
   "id": "358e40a0",
   "metadata": {},
   "source": [
    "#### Analytical expressions with parameters fitted from soil-water experimental data\n",
    "This functions are defined from Haverkamp (1977)"
   ]
  },
  {
   "cell_type": "code",
   "execution_count": 16,
   "id": "3443e4b8",
   "metadata": {},
   "outputs": [],
   "source": [
    "def theta_fun(h, alpha=alpha, theta_s = theta_s, theta_r = theta_r, \n",
    "              beta_theta = beta_theta):\n",
    "    return (alpha * (theta_s-theta_r) / (alpha + np.abs(h)**beta_theta) +\n",
    "            theta_r)\n",
    "\n",
    "def K(h, K_s=K_s, A=A,  beta_K=beta_K):\n",
    "    return K_s * A /(A + np.abs(h)**beta_K)\n",
    "    "
   ]
  },
  {
   "cell_type": "markdown",
   "id": "9b12b57e",
   "metadata": {},
   "source": [
    "Boundary conditions"
   ]
  },
  {
   "cell_type": "markdown",
   "id": "f2827545",
   "metadata": {},
   "source": [
    "Soil water diffusivity\n",
    "\n",
    "$$ D(\\theta) = \\frac{K(\\theta)}{C(\\theta)}$$\n",
    "\n",
    "Specific water capacity\n",
    "\n",
    "$$ C(\\theta) = \\frac{d \\theta}{d h} $$\n",
    "\n",
    "Noting that this derivative implies that there is a unique relation between the volumetric water content, $\\theta$, and the soil water pressure relative to the atmosfere in cm of water.\n",
    "\n",
    "#### Constant flux condition at the soil surface\n",
    "\n",
    "$$ \\frac{\\partial \\theta}{\\partial z}|_{z=0} = \\frac{K-q_0}{D} $$"
   ]
  },
  {
   "cell_type": "code",
   "execution_count": null,
   "id": "45cc9968",
   "metadata": {},
   "outputs": [],
   "source": []
  },
  {
   "cell_type": "markdown",
   "id": "41cced06",
   "metadata": {},
   "source": [
    "After multiplying the matrices, we need to have a vector with the time derivatives of the dependent variable, in this case, $h$ o $\\psi$ depending on the nomenclature."
   ]
  },
  {
   "cell_type": "code",
   "execution_count": null,
   "id": "6577e9c6",
   "metadata": {},
   "outputs": [],
   "source": [
    "n_z = 100 # Number of nodes\n",
    "\n",
    "# Initial conditions\n",
    "psi_0 = np.\n",
    "# Initial and boundary conditions"
   ]
  },
  {
   "cell_type": "markdown",
   "id": "2184258a",
   "metadata": {},
   "source": [
    "Build the system of differential equations\n",
    "\n",
    "- After multiplying the matrices, we need to have a vector with the time derivatives of the dependent variable, in this case, $h$ o $\\psi$ depending on the nomenclature.\n",
    "- In each time-step, the matrices need to be updated."
   ]
  },
  {
   "cell_type": "code",
   "execution_count": 18,
   "id": "f7a69c53",
   "metadata": {},
   "outputs": [
    {
     "name": "stdout",
     "output_type": "stream",
     "text": [
      "Inverse of the matrix:\n",
      "[[ 0.6 -0.7]\n",
      " [-0.2  0.4]]\n"
     ]
    }
   ],
   "source": [
    "import numpy as np\n",
    "\n",
    "# Define a square matrix\n",
    "matrix = np.array([[4, 7],\n",
    "                   [2, 6]])\n",
    "\n",
    "# Compute the inverse\n",
    "try:\n",
    "    inverse_matrix = np.linalg.inv(matrix)\n",
    "    print(\"Inverse of the matrix:\")\n",
    "    print(inverse_matrix)\n",
    "except np.linalg.LinAlgError:\n",
    "    print(\"Matrix is singular and cannot be inverted.\")\n"
   ]
  },
  {
   "cell_type": "code",
   "execution_count": 19,
   "id": "5c3bc36a",
   "metadata": {},
   "outputs": [
    {
     "data": {
      "text/plain": [
       "array([[4, 7],\n",
       "       [2, 6]])"
      ]
     },
     "execution_count": 19,
     "metadata": {},
     "output_type": "execute_result"
    }
   ],
   "source": [
    "matrix"
   ]
  },
  {
   "cell_type": "code",
   "execution_count": 21,
   "id": "4a29e60a",
   "metadata": {},
   "outputs": [
    {
     "data": {
      "text/plain": [
       "array([[ 1.00000000e+00, -1.11022302e-16],\n",
       "       [-1.11022302e-16,  1.00000000e+00]])"
      ]
     },
     "execution_count": 21,
     "metadata": {},
     "output_type": "execute_result"
    }
   ],
   "source": [
    "np.dot(matrix,inverse_matrix)"
   ]
  },
  {
   "cell_type": "code",
   "execution_count": null,
   "id": "0f904710",
   "metadata": {},
   "outputs": [],
   "source": []
  }
 ],
 "metadata": {
  "kernelspec": {
   "display_name": "Python 3 (ipykernel)",
   "language": "python",
   "name": "python3"
  },
  "language_info": {
   "codemirror_mode": {
    "name": "ipython",
    "version": 3
   },
   "file_extension": ".py",
   "mimetype": "text/x-python",
   "name": "python",
   "nbconvert_exporter": "python",
   "pygments_lexer": "ipython3",
   "version": "3.10.4"
  }
 },
 "nbformat": 4,
 "nbformat_minor": 5
}
